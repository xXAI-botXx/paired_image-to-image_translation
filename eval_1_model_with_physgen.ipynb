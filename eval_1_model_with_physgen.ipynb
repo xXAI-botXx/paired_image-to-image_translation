{
 "cells": [
  {
   "cell_type": "markdown",
   "id": "72115f71",
   "metadata": {},
   "source": [
    "# Evaluation of 1 Model With Physgen"
   ]
  },
  {
   "cell_type": "code",
   "execution_count": null,
   "id": "28edf180",
   "metadata": {},
   "outputs": [],
   "source": [
    "model_1 = \"hexa_wave_net_1_0\"\n",
    "model_type = \"hexa_wave_net\""
   ]
  },
  {
   "cell_type": "markdown",
   "id": "27adeb9e",
   "metadata": {},
   "source": [
    "### Env Setup"
   ]
  },
  {
   "cell_type": "code",
   "execution_count": null,
   "id": "68a45c77",
   "metadata": {},
   "outputs": [],
   "source": [
    "!conda create -n eval python=3.8 -y\n",
    "!conda activate eval"
   ]
  },
  {
   "cell_type": "markdown",
   "id": "44156114",
   "metadata": {},
   "source": [
    "Activate now eval env and run:"
   ]
  },
  {
   "cell_type": "code",
   "execution_count": null,
   "id": "ca3bbd95",
   "metadata": {},
   "outputs": [],
   "source": [
    "!pip install pandas\n",
    "!pip install ipython\n",
    "!pip install ipykernel\n",
    "!pip install opencv-python\n",
    "!pip install -r requirements.txt"
   ]
  },
  {
   "cell_type": "markdown",
   "id": "eac367b3",
   "metadata": {},
   "source": [
    "> Set 'eval' as your python env"
   ]
  },
  {
   "cell_type": "markdown",
   "id": "e95fad5b",
   "metadata": {},
   "source": [
    "### Imports"
   ]
  },
  {
   "cell_type": "code",
   "execution_count": null,
   "id": "4196a429",
   "metadata": {},
   "outputs": [],
   "source": [
    "import os\n",
    "import numpy as np\n",
    "import pandas as pd\n",
    "import matplotlib.pyplot as plt\n",
    "import cv2"
   ]
  },
  {
   "cell_type": "code",
   "execution_count": null,
   "id": "3ac171a2",
   "metadata": {},
   "outputs": [],
   "source": [
    "!python --version"
   ]
  },
  {
   "cell_type": "markdown",
   "id": "f357709f",
   "metadata": {},
   "source": [
    "### Helper"
   ]
  },
  {
   "cell_type": "code",
   "execution_count": null,
   "id": "107b7fcf",
   "metadata": {},
   "outputs": [],
   "source": [
    "def imshow(img, title=None, image_width=10, axis=False,\n",
    "           color_space=\"RGB\", cmap=None, cols=1, save_to=None,\n",
    "           hspace=0.2, wspace=0.2,\n",
    "           use_original_sytle=False, invert=False):\n",
    "    \"\"\"\n",
    "    Visualizes one or multiple images.\n",
    "\n",
    "    Image will be reshaped: [batch_size/images, width, height, channels]\n",
    "\n",
    "    ---\n",
    "    Parameters:\n",
    "    - img : np.ndarray\n",
    "        Images/Images with [width, height, channels] or for multiple: [batch_size/images, width, height, channels].\n",
    "    - title : str, optional (default=None)\n",
    "        Title of the whole plot.\n",
    "    - image_width : int, optional (default=5)\n",
    "        Width of one image in the plot.\n",
    "    - axis : bool, optional (default=False)\n",
    "        Whether to print the axis of the images or not.\n",
    "    - color_space : str, optional (default=\"RGB\")\n",
    "        The colorspace of the image: RGB, BGR, gray, HSV.\n",
    "    - cmap : str, optional (default=None)\n",
    "        Which cmap to use. Check all cmaps here out: https://matplotlib.org/stable/users/explain/colors/colormaps.html\n",
    "    - cols : int, optional (default=1)\n",
    "        Amount of columns in the plot.\n",
    "    - save_to : str, optional (default=None)\n",
    "        Path where to save the result image.\n",
    "    - hspace : float, optional (default=0.01)\n",
    "        Horizontal space between the images.\n",
    "    - wspace : float, optional (default=0.01)\n",
    "        Vertical space between the images.\n",
    "    - use_original_sytle : bool, optonial (default=False)\n",
    "        Whether the plot should use the current active matplotlib style or choosing a own one. \n",
    "    - invert : bool, optional (default=False)\n",
    "        Whether to invert the images or not.\n",
    "    \"\"\"\n",
    "    original_style = plt.rcParams.copy()\n",
    "\n",
    "    img_shape = img.shape\n",
    "    print(f\"Got images with shape: {img_shape}\")\n",
    "\n",
    "    # tranform the image to the right form\n",
    "    if len(img_shape) == 2:\n",
    "        img = np.reshape(img, shape=(1, img.shape[0], img.shape[1], 1))\n",
    "    elif len(img_shape) == 3:\n",
    "        # check if multiple gray images or multiple images with channel\n",
    "        # if img.shape[2] < img.shape[0] and img.shape[1] == img.shape[2]:\n",
    "        img = np.reshape(img, shape=(1, img.shape[0], img.shape[1], img.shape[2]))\n",
    "        # else:\n",
    "        #     # there could be cases where this is wrong\n",
    "        #     img = np.reshape(img, shape=(img.shape[0], img.shape[1], img.shape[2], 1))\n",
    "    elif len(img_shape) != 4:\n",
    "        raise ValueError(f\"Image(s) have wrong shape! Founded shape: {img.shape}.\")\n",
    "\n",
    "    print(f\"Transformed shape to: {img_shape}\")\n",
    "\n",
    "    # invert images\n",
    "    if invert:\n",
    "        print(\"Invert images...\")\n",
    "        max_value = 2**(img.dtype.itemsize * 8) -1\n",
    "        scaling_func = lambda x: max_value - x\n",
    "        img = np.apply_along_axis(scaling_func, axis=0, arr=img)\n",
    "\n",
    "    # Set visualization settings\n",
    "    # aspect_ratio_width = img.shape[1] / img.shape[2]\n",
    "    aspect_ratio = img.shape[2] / img.shape[1]\n",
    "\n",
    "    n_images = img.shape[0]\n",
    "    rows = n_images//cols + int(n_images % cols > 0)\n",
    "\n",
    "    width = int(image_width * cols)\n",
    "    height = int(image_width * rows * aspect_ratio)\n",
    "\n",
    "    # set plt style\n",
    "    if not use_original_sytle:\n",
    "        plt_style = 'seaborn-v0_8' if 'seaborn-v0_8' in plt.style.available else np.random.choice(plt.style.available)\n",
    "        plt.style.use(plt_style)\n",
    "        print(f\"Using '{plt_style}' plotting style.\")\n",
    "\n",
    "    # plotting\n",
    "    print(f\"Making you a beautiful plot...\")\n",
    "    fig, ax = plt.subplots(nrows=rows, ncols=cols, figsize=(width, height))\n",
    "    try:\n",
    "        ax = ax.ravel()\n",
    "    except AttributeError:\n",
    "        ax = [ax]\n",
    "    fig.subplots_adjust(hspace=hspace, wspace=wspace)\n",
    "    if type(title) == str:\n",
    "        fig.suptitle(title, fontsize=128, y=0.95)\n",
    "\n",
    "    for idx in range(len(ax)):\n",
    "        cur_ax = ax[idx]\n",
    "\n",
    "        if idx >= len(img):\n",
    "            cur_ax.axis(\"off\")\n",
    "            continue\n",
    "\n",
    "        cur_img = img[idx]\n",
    "\n",
    "        if color_space.lower() == \"bgr\":\n",
    "            cur_img = cv2.cvtColor(cur_img, cv2.COLOR_BGR2RGB)\n",
    "            used_cmap = None\n",
    "        elif color_space.lower() == \"rgb\":\n",
    "            cur_img = cur_img\n",
    "            used_cmap = None\n",
    "        elif color_space.lower() == \"hsv\":\n",
    "            cur_img = cv2.cvtColor(cur_img, cv2.COLOR_HSV2RGB)\n",
    "            used_cmap = None\n",
    "        elif color_space.lower() in [\"gray\", \"grey\", \"g\"]:\n",
    "            if len(cur_img.shape) == 3 and cur_img.shape[2]:\n",
    "                cur_img = cv2.cvtColor(cur_img, cv2.COLOR_RGB2GRAY)\n",
    "            else:\n",
    "                cur_img = cur_img\n",
    "            print(cur_img.shape)\n",
    "            used_cmap = \"gray\"\n",
    "\n",
    "        if cmap:\n",
    "            used_cmap = cmap\n",
    "\n",
    "        if type(title) in [list, tuple]:\n",
    "            cur_ax.set_title(title[idx], fontsize=64)\n",
    "        if axis == False:\n",
    "            cur_ax.axis(\"off\")\n",
    "\n",
    "        cur_ax.imshow(cur_img, cmap=used_cmap)\n",
    "\n",
    "    if save_to:\n",
    "        os.makedirs(os.path.split(save_to)[0], exist_ok=True)\n",
    "        fig.savefig(save_to, dpi=300)\n",
    "\n",
    "    plt.show()\n",
    "\n",
    "    if not use_original_sytle:\n",
    "        # reset to original plt style\n",
    "        plt.rcParams.update(original_style)\n",
    "\n",
    "def show_images(image_paths:list, title=None, image_width=5, axis=False,\n",
    "                color_space=\"gray\", cmap=None, \n",
    "                cols=2, save_to=None,\n",
    "                hspace=0.01, wspace=0.01,\n",
    "                use_original_sytle=False, invert=False):\n",
    "    \"\"\"\n",
    "    Visulalizes/shows one or multiple images.\n",
    "\n",
    "    ---\n",
    "    Parameters:\n",
    "    - image_paths : List[str]\n",
    "        List of paths to the images which should get visualized.\n",
    "    - title : str, optional (default=None)\n",
    "        Title of the whole plot.\n",
    "    - image_width : int, optional (default=5)\n",
    "        Width of one image in the plot.\n",
    "    - axis : bool, optional (default=False)\n",
    "        Whether to print the axis of the images or not.\n",
    "    - color_space : str, optional (default=\"RGB\")\n",
    "        The colorspace of the image: RGB, BGR, gray, HSV.\n",
    "    - cmap : str, optional (default=None)\n",
    "        Which cmap to use. Check all cmaps here out: https://matplotlib.org/stable/users/explain/colors/colormaps.html\n",
    "    - cols : int, optional (default=1)\n",
    "        Amount of columns in the plot.\n",
    "    - save_to : str, optional (default=None)\n",
    "        Path where to save the result image.\n",
    "    - hspace : float, optional (default=0.01)\n",
    "        Horizontal space between the images.\n",
    "    - wspace : float, optional (default=0.01)\n",
    "        Vertical space between the images.\n",
    "    - use_original_sytle : bool, optonial (default=False)\n",
    "        Whether the plot should use the current active matplotlib style or choosing a own one. \n",
    "    - invert : bool, optional (default=False)\n",
    "        Whether to invert the images or not.\n",
    "    \"\"\"\n",
    "    if color_space.lower() == \"rgb\":\n",
    "        images = np.array([cv2.cvtColor(cv2.imread(img), cv2.COLOR_BGR2RGB) for img in image_paths])\n",
    "    elif color_space.lower() == \"hsv\":\n",
    "        images = np.array([cv2.cvtColor(cv2.imread(img), cv2.COLOR_BGR2HSV) for img in image_paths])\n",
    "    else:\n",
    "        images = np.array([cv2.imread(img) for img in image_paths])\n",
    "    imshow(images, title=title, image_width=image_width, axis=axis,\n",
    "           color_space=color_space, cmap=cmap, cols=cols, save_to=save_to,\n",
    "           hspace=hspace, wspace=wspace,\n",
    "           use_original_sytle=use_original_sytle, invert=invert)\n",
    "    return images"
   ]
  },
  {
   "cell_type": "markdown",
   "id": "1583ad16",
   "metadata": {},
   "source": [
    "### Run Tests"
   ]
  },
  {
   "cell_type": "code",
   "execution_count": null,
   "id": "9f9c413c",
   "metadata": {},
   "outputs": [],
   "source": [
    "!python test.py \\\n",
    "  --dataroot {data_1} \\\n",
    "  --name {model_1} \\\n",
    "  --model {model_type} \\\n",
    "  --batch_size 18 \\\n",
    "  --dataset_mode physgen \\\n",
    "  --input_nc 1 \\\n",
    "  --output_nc 1 \\\n",
    "  --load_size 256 \\\n",
    "  --netG unet_256 \\\n",
    "  --max_dataset_size 1000 \\\n",
    "  --num_test 1000 \\\n",
    "  --results_dir ./eval/{model_1} \\\n",
    "  --phase test \\\n",
    "  --eval"
   ]
  },
  {
   "cell_type": "markdown",
   "id": "b46a0516",
   "metadata": {},
   "source": [
    "### Extract Test Predictions"
   ]
  },
  {
   "cell_type": "code",
   "execution_count": null,
   "id": "072e600f",
   "metadata": {},
   "outputs": [],
   "source": [
    "evaluation_path = f\"./eval/{model_1}/{model_1}/test_latest/images\"\n",
    "target_path = f\"../../data/eval/{model_1}\""
   ]
  },
  {
   "cell_type": "code",
   "execution_count": null,
   "id": "9dfdddfe",
   "metadata": {},
   "outputs": [],
   "source": [
    "!python eval_extractor.py \\\n",
    "    --name {model_1} \\\n",
    "    --evaluation_path {evaluation_path} \\\n",
    "    --target_path {target_path}"
   ]
  },
  {
   "cell_type": "markdown",
   "id": "b7849e54",
   "metadata": {},
   "source": [
    "### Calc Eval metrics"
   ]
  },
  {
   "cell_type": "code",
   "execution_count": null,
   "id": "861533a9",
   "metadata": {},
   "outputs": [],
   "source": [
    "!python eval_metrics.py\\\n",
    "    --data_dir ../../data/eval/{model_1}/real \\\n",
    "    --pred_dir ../../data/eval/{model_1}/pred \\\n",
    "    --output ./eval_results/evaluation_{model_1}.csv"
   ]
  },
  {
   "cell_type": "markdown",
   "id": "c49c3f50",
   "metadata": {},
   "source": [
    "### Show Results"
   ]
  },
  {
   "cell_type": "code",
   "execution_count": null,
   "id": "eb2b0759",
   "metadata": {},
   "outputs": [],
   "source": [
    "df_1 = pd.read_csv(f\"./eval_results/evaluation_{model_1}.csv\")\n",
    "df_1 = df_1.drop(columns=[\"LoS_MAE\", \"NLoS_MAE\", \"LoS_wMAPE\", \"NLoS_wMAPE\"])\n",
    "df_1[\"sample_id\"] = df_1[\"sample_id\"].str.extract(r'_*(\\d+)_*')[0].astype(int)\n",
    "merged_df = df_1\n",
    "df_1"
   ]
  },
  {
   "cell_type": "code",
   "execution_count": null,
   "id": "385206db",
   "metadata": {},
   "outputs": [],
   "source": [
    "plt_style = 'seaborn-v0_8' if 'seaborn-v0_8' in plt.style.available else np.random.choice(plt.style.available)\n",
    "plt.style.use(plt_style)\n",
    "print(f\"Using '{plt_style}' plotting style.\")\n",
    "\n",
    "fig, ax = plt.subplots(ncols=2, nrows=1, figsize=(10, 4))\n",
    "ax = ax.flatten()\n",
    "\n",
    "values = [merged_df[\"MAE\"]]\n",
    "names = [\"MAE\"]\n",
    "ax[0].boxplot(x=values, notch=False)\n",
    "ax[0].set_xticks([1], names)\n",
    "ax[0].set_title(\"Mean Absolut Error\")\n",
    "\n",
    "values = [merged_df[\"MAPE\"]]\n",
    "names = [\"MAPE\"]\n",
    "ax[1].boxplot(x=values, notch=False)\n",
    "ax[1].set_xticks([1], names)\n",
    "ax[1].set_title(\"Mean Absolut Percentage Error\")\n",
    "\n",
    "print(f\"\\nMAE\\n    - Normal: {merged_df['MAE'].mean()}\")\n",
    "print(f\"\\nMAPE\\n    - Normal: {merged_df['MAPE'].mean()}\")"
   ]
  },
  {
   "cell_type": "markdown",
   "id": "f0ddf2ca",
   "metadata": {},
   "source": [
    "Example Image"
   ]
  },
  {
   "cell_type": "code",
   "execution_count": null,
   "id": "a9922317",
   "metadata": {},
   "outputs": [],
   "source": [
    "path = f\"../../data/eval/{model_1}/pred\"\n",
    "example_images = [os.path.join(path, cur_img) for cur_img in os.listdir(path)]\n",
    "print(f\"Examples from {model_1}\")\n",
    "show_images(image_paths=example_images[:10], image_width=4, cols=5, cmap=\"inferno\", color_space=\"grey\", invert=True);"
   ]
  },
  {
   "cell_type": "code",
   "execution_count": null,
   "id": "b061b698",
   "metadata": {},
   "outputs": [],
   "source": []
  }
 ],
 "metadata": {
  "kernelspec": {
   "display_name": "eval",
   "language": "python",
   "name": "python3"
  },
  "language_info": {
   "codemirror_mode": {
    "name": "ipython",
    "version": 3
   },
   "file_extension": ".py",
   "mimetype": "text/x-python",
   "name": "python",
   "nbconvert_exporter": "python",
   "pygments_lexer": "ipython3",
   "version": "3.8.20"
  }
 },
 "nbformat": 4,
 "nbformat_minor": 5
}
